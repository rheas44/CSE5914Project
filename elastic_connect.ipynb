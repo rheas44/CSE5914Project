{
 "cells": [
  {
   "cell_type": "code",
   "execution_count": 21,
   "metadata": {},
   "outputs": [],
   "source": [
    "from elasticsearch import Elasticsearch\n",
    "import os\n",
    "import requests\n",
    "\n",
    "API_KEY = \"2oYO3lQwGjIr9RgV+oRa6w==LsM3nPTL7VMFT7m5\"\n",
    "NURT_API_ID = \"73bd8bbc\"\n",
    "NURT_API_KEY = \"46ff5210638f6e9f5c84ee68eb32033f\""
   ]
  },
  {
   "cell_type": "code",
   "execution_count": 2,
   "metadata": {},
   "outputs": [
    {
     "name": "stdout",
     "output_type": "stream",
     "text": [
      "Successfully connected to Elasticsearch!\n"
     ]
    }
   ],
   "source": [
    "# Get Elasticsearch host from environment variables\n",
    "elasticsearch_host = \"http://localhost:9200\"\n",
    "elasticsearch_username = \"elastic\"\n",
    "elasticsearch_password = \"p5FE3c=alPhGd20o14bx\"\n",
    "# Connect to Elasticsearch\n",
    "try:\n",
    "    es = Elasticsearch(elasticsearch_host, basic_auth=(elasticsearch_username, elasticsearch_password))\n",
    "    if es.ping():\n",
    "        print(\"Successfully connected to Elasticsearch!\")\n",
    "    else:\n",
    "        print(\"Failed to connect to Elasticsearch.\")\n",
    "except Exception as e:\n",
    "    print(f\"Error connecting to Elasticsearch: {e}\")"
   ]
  },
  {
   "cell_type": "code",
   "execution_count": 9,
   "metadata": {},
   "outputs": [],
   "source": [
    "def fetch_recipes(query):\n",
    "    \"\"\"Fetch recipes from API-Ninjas and return JSON response.\"\"\"\n",
    "    api_url = f\"https://api.api-ninjas.com/v1/recipe?query={query}\"\n",
    "    headers = {\"X-Api-Key\": API_KEY}\n",
    "    \n",
    "    response = requests.get(api_url, headers=headers)\n",
    "    \n",
    "    if response.status_code == 200:\n",
    "        return response.json()\n",
    "    else:\n",
    "        print(f\"Error: {response.status_code}, {response.text}\")\n",
    "        return []\n",
    "\n",
    "def store_recipes_in_elasticsearch(recipes):\n",
    "    \"\"\"Store the fetched recipes in Elasticsearch.\"\"\"\n",
    "    for i, recipe in enumerate(recipes):\n",
    "        es.index(index=\"recipes\", id=i+1, document=recipe)\n",
    "    print(\"Recipes successfully stored in Elasticsearch!\")\n",
    "\n",
    "def search_recipes(keyword):\n",
    "    \"\"\"Search for recipes in Elasticsearch.\"\"\"\n",
    "    results = es.search(index=\"recipes\", query={\n",
    "        \"match\": {\n",
    "            \"title\": keyword  # Searches in the recipe title field\n",
    "        }\n",
    "    })\n",
    "    return results[\"hits\"][\"hits\"]"
   ]
  },
  {
   "cell_type": "code",
   "execution_count": 6,
   "metadata": {},
   "outputs": [
    {
     "name": "stdout",
     "output_type": "stream",
     "text": [
      "Recipes successfully stored in Elasticsearch!\n"
     ]
    }
   ],
   "source": [
    "# Example: Fetch & Store \"Italian Wedding Soup\"\n",
    "query = \"italian wedding soup\"\n",
    "recipes = fetch_recipes(query)\n",
    "\n",
    "if recipes:\n",
    "    store_recipes_in_elasticsearch(recipes)"
   ]
  },
  {
   "cell_type": "code",
   "execution_count": 26,
   "metadata": {},
   "outputs": [
    {
     "name": "stdout",
     "output_type": "stream",
     "text": [
      "{'title': 'Italian Wedding Soup', 'ingredients': '1/2 lb Ground beef|1/2 lb Ground veal|1/4 c Italian seasoned bread crumb|1 Egg|1 tb Parsley|Salt and pepper to taste|4 c Chicken broth|2 c Spinach leaves cut into piec|1/4 c Grated Pecorino Romano chees', 'servings': '1 Servings', 'instructions': 'Combine the ground meat, bread crumbs, egg, parsley, salt and pepper in a bowl. Mix well and form into tiny meat balls. Bake on a cookie sheet for 30 minutes at 350F. Meanwhile, bring broth to a boil and add spinach. Cover and boil for 5 minutes. Add the meatballs to the hot broth, bring to a simmer. Stir in the cheese and serve immediately. Rita in Scottsdale 01/02/92 01:41 am'}\n",
      "{'title': 'Italian Wedding Soup', 'ingredients': '2 qt Chicken stock|1 Chopped carrot|1/2 Chopped onion|1 Chopped celery|2 oz Ground meat; (or ground vegieburger can be used)|1 Egg|1 Sprig of chopped parsely', 'servings': '4 - 6 servin', 'instructions': 'Bring chicken stock to a boil add the chopped carrot,celery and onion and lower heat. Combine ground meat or vegieburger, egg, and parsely, the consistancy of the mixture is kinda loose. Drop in small pieces of the meat mixture, not much larger than a Tablespoon. (making tiny meatballs.) Turn up the heat and bring to a boil,5 -7 minutes, it is ready when the little meatballs float to the surface.'}\n",
      "{'title': 'Stracciatella (Italian Wedding Soup)', 'ingredients': '3 1/2 c Chicken broth; homemade|1 lb Fresh spinach; wash/trim/chop|1 Egg|1 c Grated parmesan cheese; --or--|1 c Romano cheese; freshly grated|Salt and pepper; to taste', 'servings': '4 servings', 'instructions': 'Bring 1 cup of the broth to a boil. Add spinach and cook until softened but still bright green. Remove spinach with a slotted spoon and set aside. Add remaining broth to pot. Bring to a boil. Meanwhile, beat egg lightly with a fork. Beat in 1/4 cup of cheese. When broth boils pour in egg mixture, stirring constantly for a few seconds until it cooks into \"rags.\" Add reserved spinach, salt and pepper. Serve immediately, passing remaining cheese. NOTES: Someone asked for this recipe a while back. I believe this soup, known as \"Stracciatella\" is synonymous with Italian Wedding Soup, however, I seem to remember from I-don\\'t-know-where that Italian Wedding Soup is the same as this but with the addition of tiny meatballs.'}\n",
      "{'title': 'Stracciatella (Italian Wedding Soup)', 'ingredients': '1 lb Fresh spinach, washed and chopped|1 Egg|1 c Parmesan cheese, * see note|Salt, to taste|Pepper, to taste', 'servings': '6 Servings', 'instructions': 'Bring 1 cup of the broth to a boil. Add spinach and cook until softened but still bright green. Remove spinach with a slotted spoon and set aside. Add remaining broth to pot. Bring to a boil. Meanwhile, beat egg lightly with a fork. Beat in 1/4 cup of cheese. When broth boils pour in egg mixture, stirring constantly for a few seconds until it cooks into \"rags.\" Add reserved spinach, salt and pepper. Serve immediately, passing remaining cheese.'}\n"
     ]
    }
   ],
   "source": [
    "# Example search\n",
    "search_results = search_recipes(\"soup\")\n",
    "\n",
    "for recipe in search_results:\n",
    "    print(recipe[\"_source\"])"
   ]
  },
  {
   "cell_type": "code",
   "execution_count": 11,
   "metadata": {},
   "outputs": [],
   "source": [
    "def fetch_nutrition(query):\n",
    "    \"\"\"Fetch recipes from Nutritionix and return JSON response.\"\"\"\n",
    "    api_url = \"https://trackapi.nutritionix.com/v2/natural/nutrients\"\n",
    "    headers = {\n",
    "        'Content-Type': 'application/json',\n",
    "        'x-app-id': NURT_API_ID,\n",
    "        'x-app-key': NURT_API_KEY       \n",
    "    }\n",
    "    \n",
    "    response = requests.get(api_url, headers=headers)\n",
    "    \n",
    "    if response.status_code == 200:\n",
    "        return response.json()\n",
    "    else:\n",
    "        print(f\"Error: {response.status_code}, {response.text}\")\n",
    "        return []"
   ]
  },
  {
   "cell_type": "code",
   "execution_count": 25,
   "metadata": {},
   "outputs": [
    {
     "name": "stdout",
     "output_type": "stream",
     "text": [
      "{'common_type': None, 'tag_name': 'apple', 'tag_id': '384', 'food_name': 'apple', 'serving_unit': 'medium (3\" dia)', 'photo': {'thumb': 'https://nix-tag-images.s3.amazonaws.com/384_thumb.jpg'}, 'serving_qty': 1, 'locale': 'en_US'}\n",
      "{'common_type': None, 'tag_name': 'apple', 'tag_id': '384', 'food_name': 'apples', 'serving_unit': 'medium (3\" dia)', 'photo': {'thumb': 'https://nix-tag-images.s3.amazonaws.com/384_thumb.jpg'}, 'serving_qty': 1, 'locale': 'en_US'}\n",
      "{'common_type': None, 'tag_name': 'appletini', 'tag_id': '5031', 'food_name': 'appletini', 'serving_unit': 'cocktail', 'photo': {'thumb': 'https://nix-tag-images.s3.amazonaws.com/5031_thumb.jpg'}, 'serving_qty': 1, 'locale': 'en_US'}\n",
      "{'common_type': None, 'tag_name': 'Apple pie', 'tag_id': '15060', 'food_name': 'apple pie', 'serving_unit': 'piece (1/8 of 9\" dia)', 'photo': {'thumb': 'https://nix-tag-images.s3.amazonaws.com/1291_thumb.jpg'}, 'serving_qty': 1, 'locale': 'en_US'}\n",
      "{'common_type': None, 'tag_name': 'apple sauce', 'tag_id': '386', 'food_name': 'applesauce', 'serving_unit': 'container', 'photo': {'thumb': 'https://nix-tag-images.s3.amazonaws.com/386_thumb.jpg'}, 'serving_qty': 1, 'locale': 'en_US'}\n",
      "{'common_type': None, 'tag_name': 'apple juice', 'tag_id': '385', 'food_name': 'applejuice', 'serving_unit': 'cup', 'photo': {'thumb': 'https://nix-tag-images.s3.amazonaws.com/385_thumb.jpg'}, 'serving_qty': 1, 'locale': 'en_US'}\n",
      "{'common_type': None, 'tag_name': 'gala apple', 'tag_id': '2049', 'food_name': 'gala apple', 'serving_unit': 'medium', 'photo': {'thumb': 'https://nix-tag-images.s3.amazonaws.com/2049_thumb.jpg'}, 'serving_qty': 1, 'locale': 'en_US'}\n",
      "{'common_type': None, 'tag_name': 'fuji apple', 'tag_id': '2155', 'food_name': 'fuji apple', 'serving_unit': 'medium', 'photo': {'thumb': 'https://nix-tag-images.s3.amazonaws.com/2155_thumb.jpg'}, 'serving_qty': 1, 'locale': 'en_US'}\n",
      "{'common_type': None, 'tag_name': 'green apple', 'tag_id': '8158', 'food_name': 'green apple', 'serving_unit': 'medium (3\" dia)', 'photo': {'thumb': 'https://nix-tag-images.s3.amazonaws.com/8158_thumb.jpg'}, 'serving_qty': 1, 'locale': 'en_US'}\n",
      "{'common_type': None, 'tag_name': 'apple juice', 'tag_id': '385', 'food_name': 'apple juice', 'serving_unit': 'cup', 'photo': {'thumb': 'https://nix-tag-images.s3.amazonaws.com/385_thumb.jpg'}, 'serving_qty': 1, 'locale': 'en_US'}\n",
      "{'common_type': None, 'tag_name': 'apple cider', 'tag_id': '213', 'food_name': 'apple cider', 'serving_unit': 'cup', 'serving_qty': 1, 'photo': {'thumb': 'https://d2eawub7utcl6.cloudfront.net/images/nix-apple-grey.png', 'highres': None, 'is_user_uploaded': False}, 'locale': 'en_US'}\n",
      "{'common_type': None, 'tag_name': 'apple sauce', 'tag_id': '386', 'food_name': 'apple sauce', 'serving_unit': 'container', 'photo': {'thumb': 'https://nix-tag-images.s3.amazonaws.com/386_thumb.jpg'}, 'serving_qty': 1, 'locale': 'en_US'}\n",
      "{'common_type': None, 'tag_name': 'apple cinnamon oatmeal', 'tag_id': '3500', 'food_name': 'apple oatmeal', 'serving_unit': 'packet', 'photo': {'thumb': 'https://nix-tag-images.s3.amazonaws.com/3500_thumb.jpg'}, 'serving_qty': 1, 'locale': 'en_US'}\n",
      "{'common_type': None, 'tag_name': 'apfelstrudel', 'tag_id': '2190', 'food_name': 'apple strudel', 'serving_unit': 'Piece', 'serving_qty': 1, 'photo': {'thumb': 'https://d2eawub7utcl6.cloudfront.net/images/nix-apple-grey.png', 'highres': None, 'is_user_uploaded': False}, 'locale': 'en_US'}\n",
      "{'common_type': None, 'tag_name': 'honeycrisp apple', 'tag_id': '7827', 'food_name': 'honeycrisp apple', 'serving_unit': 'medium (3\" dia)', 'photo': {'thumb': 'https://nix-tag-images.s3.amazonaws.com/7827_thumb.jpg'}, 'serving_qty': 1, 'locale': 'en_US'}\n",
      "{'common_type': None, 'tag_name': 'honeycrisp apple', 'tag_id': '7827', 'food_name': 'honeycrisp apples', 'serving_unit': 'medium (3\" dia)', 'photo': {'thumb': 'https://nix-tag-images.s3.amazonaws.com/7827_thumb.jpg'}, 'serving_qty': 1, 'locale': 'en_US'}\n",
      "{'common_type': None, 'tag_name': 'apple cider vinegar', 'tag_id': '479', 'food_name': 'apple cider vinegar', 'serving_unit': 'tbsp', 'photo': {'thumb': 'https://nix-tag-images.s3.amazonaws.com/479_thumb.jpg'}, 'serving_qty': 1, 'locale': 'en_US'}\n",
      "{'common_type': None, 'tag_name': 'strawberry applesauce', 'tag_id': '8044', 'food_name': 'strawberry applesauce', 'serving_unit': 'container', 'serving_qty': 1, 'photo': {'thumb': 'https://d2eawub7utcl6.cloudfront.net/images/nix-apple-grey.png', 'highres': None, 'is_user_uploaded': False}, 'locale': 'en_US'}\n",
      "{'common_type': None, 'tag_name': 'unsweetened applesauce', 'tag_id': '2890', 'food_name': 'unsweetened applesauce', 'serving_unit': 'cup', 'photo': {'thumb': 'https://nix-tag-images.s3.amazonaws.com/2890_thumb.jpg'}, 'serving_qty': 1, 'locale': 'en_US'}\n",
      "{'common_type': None, 'tag_name': 'unsweetened applesauce', 'tag_id': '2890', 'food_name': 'applesauce unsweetened', 'serving_unit': 'cup', 'photo': {'thumb': 'https://nix-tag-images.s3.amazonaws.com/2890_thumb.jpg'}, 'serving_qty': 1, 'locale': 'en_US'}\n"
     ]
    }
   ],
   "source": [
    "#results = fetch_nutrition(\"apple\")\n",
    "for item in results['common']:\n",
    "    print(item)"
   ]
  },
  {
   "cell_type": "code",
   "execution_count": null,
   "metadata": {},
   "outputs": [],
   "source": []
  }
 ],
 "metadata": {
  "kernelspec": {
   "display_name": "Python 3",
   "language": "python",
   "name": "python3"
  },
  "language_info": {
   "codemirror_mode": {
    "name": "ipython",
    "version": 3
   },
   "file_extension": ".py",
   "mimetype": "text/x-python",
   "name": "python",
   "nbconvert_exporter": "python",
   "pygments_lexer": "ipython3",
   "version": "3.11.9"
  }
 },
 "nbformat": 4,
 "nbformat_minor": 2
}
