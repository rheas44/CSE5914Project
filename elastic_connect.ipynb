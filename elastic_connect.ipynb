{
 "cells": [
  {
   "cell_type": "code",
   "execution_count": 3,
   "metadata": {},
   "outputs": [],
   "source": [
    "from elasticsearch import Elasticsearch\n",
    "import os"
   ]
  },
  {
   "cell_type": "code",
   "execution_count": 5,
   "metadata": {},
   "outputs": [
    {
     "name": "stdout",
     "output_type": "stream",
     "text": [
      "Successfully connected to Elasticsearch!\n"
     ]
    }
   ],
   "source": [
    "# Get Elasticsearch host from environment variables\n",
    "elasticsearch_host = \"http://localhost:9200\"\n",
    "elasticsearch_username = \"elastic\"\n",
    "elasticsearch_password = \"p5FE3c=alPhGd20o14bx\"\n",
    "# Connect to Elasticsearch\n",
    "try:\n",
    "    es = Elasticsearch(elasticsearch_host, basic_auth=(elasticsearch_username, elasticsearch_password))\n",
    "    if es.ping():\n",
    "        print(\"Successfully connected to Elasticsearch!\")\n",
    "    else:\n",
    "        print(\"Failed to connect to Elasticsearch.\")\n",
    "except Exception as e:\n",
    "    print(f\"Error connecting to Elasticsearch: {e}\")"
   ]
  }
 ],
 "metadata": {
  "kernelspec": {
   "display_name": "Python 3",
   "language": "python",
   "name": "python3"
  },
  "language_info": {
   "codemirror_mode": {
    "name": "ipython",
    "version": 3
   },
   "file_extension": ".py",
   "mimetype": "text/x-python",
   "name": "python",
   "nbconvert_exporter": "python",
   "pygments_lexer": "ipython3",
   "version": "3.11.9"
  }
 },
 "nbformat": 4,
 "nbformat_minor": 2
}
