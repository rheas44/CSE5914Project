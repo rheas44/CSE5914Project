{
 "cells": [
  {
   "cell_type": "code",
   "execution_count": 43,
   "metadata": {},
   "outputs": [],
   "source": [
    "from elasticsearch import Elasticsearch\n",
    "import os\n",
    "import requests\n",
    "from requests.utils import quote\n",
    "import json\n",
    "\n",
    "API_KEY = \"2oYO3lQwGjIr9RgV+oRa6w==LsM3nPTL7VMFT7m5\"\n",
    "NURT_API_ID = \"73bd8bbc\"\n",
    "NURT_API_KEY = \"46ff5210638f6e9f5c84ee68eb32033f\""
   ]
  },
  {
   "cell_type": "code",
   "execution_count": 30,
   "metadata": {},
   "outputs": [
    {
     "name": "stdout",
     "output_type": "stream",
     "text": [
      "Successfully connected to Elasticsearch!\n"
     ]
    }
   ],
   "source": [
    "# Get Elasticsearch host from environment variables\n",
    "elasticsearch_host = \"http://localhost:9200\"\n",
    "elasticsearch_username = \"elastic\"\n",
    "elasticsearch_password = \"p5FE3c=alPhGd20o14bx\"\n",
    "# Connect to Elasticsearch\n",
    "try:\n",
    "    es = Elasticsearch(elasticsearch_host, basic_auth=(elasticsearch_username, elasticsearch_password))\n",
    "    if es.ping():\n",
    "        print(\"Successfully connected to Elasticsearch!\")\n",
    "    else:\n",
    "        print(\"Failed to connect to Elasticsearch.\")\n",
    "except Exception as e:\n",
    "    print(f\"Error connecting to Elasticsearch: {e}\")"
   ]
  },
  {
   "cell_type": "code",
   "execution_count": 31,
   "metadata": {},
   "outputs": [],
   "source": [
    "def fetch_recipes(query):\n",
    "    \"\"\"Fetch recipes from API-Ninjas and return JSON response.\"\"\"\n",
    "    api_url = f\"https://api.api-ninjas.com/v1/recipe?query={query}\"\n",
    "    headers = {\"X-Api-Key\": API_KEY}\n",
    "    \n",
    "    response = requests.get(api_url, headers=headers)\n",
    "    \n",
    "    if response.status_code == 200:\n",
    "        return response.json()\n",
    "    else:\n",
    "        print(f\"Error: {response.status_code}, {response.text}\")\n",
    "        return []\n",
    "\n",
    "def store_recipes_in_elasticsearch(recipes):\n",
    "    \"\"\"Store the fetched recipes in Elasticsearch.\"\"\"\n",
    "    for i, recipe in enumerate(recipes):\n",
    "        es.index(index=\"recipes\", id=i+1, document=recipe)\n",
    "    print(\"Recipes successfully stored in Elasticsearch!\")\n",
    "\n",
    "def search_recipes(keyword):\n",
    "    \"\"\"Search for recipes in Elasticsearch.\"\"\"\n",
    "    results = es.search(index=\"recipes\", query={\n",
    "        \"match\": {\n",
    "            \"title\": keyword  # Searches in the recipe title field\n",
    "        }\n",
    "    })\n",
    "    return results[\"hits\"][\"hits\"]"
   ]
  },
  {
   "cell_type": "code",
   "execution_count": 32,
   "metadata": {},
   "outputs": [
    {
     "name": "stdout",
     "output_type": "stream",
     "text": [
      "Recipes successfully stored in Elasticsearch!\n"
     ]
    }
   ],
   "source": [
    "# Example: Fetch & Store \"Italian Wedding Soup\"\n",
    "query = \"italian wedding soup\"\n",
    "recipes = fetch_recipes(query)\n",
    "\n",
    "if recipes:\n",
    "    store_recipes_in_elasticsearch(recipes)"
   ]
  },
  {
   "cell_type": "code",
   "execution_count": 33,
   "metadata": {},
   "outputs": [
    {
     "name": "stdout",
     "output_type": "stream",
     "text": [
      "{'title': 'Italian Wedding Soup', 'ingredients': '1/2 lb Ground beef|1/2 lb Ground veal|1/4 c Italian seasoned bread crumb|1 Egg|1 tb Parsley|Salt and pepper to taste|4 c Chicken broth|2 c Spinach leaves cut into piec|1/4 c Grated Pecorino Romano chees', 'servings': '1 Servings', 'instructions': 'Combine the ground meat, bread crumbs, egg, parsley, salt and pepper in a bowl. Mix well and form into tiny meat balls. Bake on a cookie sheet for 30 minutes at 350F. Meanwhile, bring broth to a boil and add spinach. Cover and boil for 5 minutes. Add the meatballs to the hot broth, bring to a simmer. Stir in the cheese and serve immediately. Rita in Scottsdale 01/02/92 01:41 am'}\n",
      "{'title': 'Italian Wedding Soup', 'ingredients': '2 qt Chicken stock|1 Chopped carrot|1/2 Chopped onion|1 Chopped celery|2 oz Ground meat; (or ground vegieburger can be used)|1 Egg|1 Sprig of chopped parsely', 'servings': '4 - 6 servin', 'instructions': 'Bring chicken stock to a boil add the chopped carrot,celery and onion and lower heat. Combine ground meat or vegieburger, egg, and parsely, the consistancy of the mixture is kinda loose. Drop in small pieces of the meat mixture, not much larger than a Tablespoon. (making tiny meatballs.) Turn up the heat and bring to a boil,5 -7 minutes, it is ready when the little meatballs float to the surface.'}\n",
      "{'title': 'Stracciatella (Italian Wedding Soup)', 'ingredients': '3 1/2 c Chicken broth; homemade|1 lb Fresh spinach; wash/trim/chop|1 Egg|1 c Grated parmesan cheese; --or--|1 c Romano cheese; freshly grated|Salt and pepper; to taste', 'servings': '4 servings', 'instructions': 'Bring 1 cup of the broth to a boil. Add spinach and cook until softened but still bright green. Remove spinach with a slotted spoon and set aside. Add remaining broth to pot. Bring to a boil. Meanwhile, beat egg lightly with a fork. Beat in 1/4 cup of cheese. When broth boils pour in egg mixture, stirring constantly for a few seconds until it cooks into \"rags.\" Add reserved spinach, salt and pepper. Serve immediately, passing remaining cheese. NOTES: Someone asked for this recipe a while back. I believe this soup, known as \"Stracciatella\" is synonymous with Italian Wedding Soup, however, I seem to remember from I-don\\'t-know-where that Italian Wedding Soup is the same as this but with the addition of tiny meatballs.'}\n",
      "{'title': 'Stracciatella (Italian Wedding Soup)', 'ingredients': '1 lb Fresh spinach, washed and chopped|1 Egg|1 c Parmesan cheese, * see note|Salt, to taste|Pepper, to taste', 'servings': '6 Servings', 'instructions': 'Bring 1 cup of the broth to a boil. Add spinach and cook until softened but still bright green. Remove spinach with a slotted spoon and set aside. Add remaining broth to pot. Bring to a boil. Meanwhile, beat egg lightly with a fork. Beat in 1/4 cup of cheese. When broth boils pour in egg mixture, stirring constantly for a few seconds until it cooks into \"rags.\" Add reserved spinach, salt and pepper. Serve immediately, passing remaining cheese.'}\n"
     ]
    }
   ],
   "source": [
    "# Example search\n",
    "search_results = search_recipes(\"soup\")\n",
    "\n",
    "for recipe in search_results:\n",
    "    print(recipe[\"_source\"])"
   ]
  },
  {
   "cell_type": "code",
   "execution_count": 47,
   "metadata": {},
   "outputs": [],
   "source": [
    "def fetch_nutrition(query):\n",
    "    \"\"\"Fetch recipes from Nutritionix and return JSON response.\"\"\"\n",
    "    # URL encode the query to handle special characters\n",
    "    encoded_query = quote(query)\n",
    "    api_url = f\"https://trackapi.nutritionix.com/v2/search/instant/?query={encoded_query}\"\n",
    "    headers = {\n",
    "        'Content-Type': 'application/json',\n",
    "        'x-app-id': NURT_API_ID,\n",
    "        'x-app-key': NURT_API_KEY       \n",
    "    }\n",
    "    \n",
    "    response = requests.get(api_url, headers=headers)\n",
    "    \n",
    "    if response.status_code == 200:\n",
    "        return response.json()\n",
    "    else:\n",
    "        print(f\"Error: {response.status_code}, {response.text}\")\n",
    "        return []\n",
    "    \n",
    "def fetch_nutrition_NL(query):  \n",
    "    url = 'https://trackapi.nutritionix.com/v2/natural/nutrients'\n",
    "    headers = {\n",
    "        'Content-Type': 'application/json',\n",
    "        'x-app-id': NURT_API_ID,\n",
    "        'x-app-key': NURT_API_KEY\n",
    "    }\n",
    "\n",
    "    # Set up the body of the request\n",
    "    body = {\n",
    "        \"query\": query  \n",
    "    }\n",
    "\n",
    "    response = requests.post(url, headers=headers, data=json.dumps(body))\n",
    "\n",
    "    # Check for errors\n",
    "    if response.status_code == 200:\n",
    "        return response.json()\n",
    "    else:\n",
    "        print(f\"Error: {response.status_code}, {response.text}\")"
   ]
  },
  {
   "cell_type": "code",
   "execution_count": 48,
   "metadata": {},
   "outputs": [
    {
     "name": "stdout",
     "output_type": "stream",
     "text": [
      "[{'food_name': 'apple', 'brand_name': None, 'serving_qty': 1, 'serving_unit': 'medium (3\" dia)', 'serving_weight_grams': 182, 'nf_calories': 94.64, 'nf_total_fat': 0.31, 'nf_saturated_fat': 0.05, 'nf_cholesterol': 0, 'nf_sodium': 1.82, 'nf_total_carbohydrate': 25.13, 'nf_dietary_fiber': 4.37, 'nf_sugars': 18.91, 'nf_protein': 0.47, 'nf_potassium': 194.74, 'nf_p': 20.02, 'full_nutrients': [{'attr_id': 203, 'value': 0.4732}, {'attr_id': 204, 'value': 0.3094}, {'attr_id': 205, 'value': 25.1342}, {'attr_id': 207, 'value': 0.3458}, {'attr_id': 208, 'value': 94.64}, {'attr_id': 209, 'value': 0.091}, {'attr_id': 210, 'value': 3.7674}, {'attr_id': 211, 'value': 4.4226}, {'attr_id': 212, 'value': 10.738}, {'attr_id': 213, 'value': 0}, {'attr_id': 214, 'value': 0}, {'attr_id': 221, 'value': 0}, {'attr_id': 255, 'value': 155.7192}, {'attr_id': 262, 'value': 0}, {'attr_id': 263, 'value': 0}, {'attr_id': 268, 'value': 396.76}, {'attr_id': 269, 'value': 18.9098}, {'attr_id': 287, 'value': 0}, {'attr_id': 291, 'value': 4.368}, {'attr_id': 301, 'value': 10.92}, {'attr_id': 303, 'value': 0.2184}, {'attr_id': 304, 'value': 9.1}, {'attr_id': 305, 'value': 20.02}, {'attr_id': 306, 'value': 194.74}, {'attr_id': 307, 'value': 1.82}, {'attr_id': 309, 'value': 0.0728}, {'attr_id': 312, 'value': 0.0491}, {'attr_id': 313, 'value': 6.006}, {'attr_id': 315, 'value': 0.0637}, {'attr_id': 317, 'value': 0}, {'attr_id': 318, 'value': 98.28}, {'attr_id': 319, 'value': 0}, {'attr_id': 320, 'value': 5.46}, {'attr_id': 321, 'value': 49.14}, {'attr_id': 322, 'value': 0}, {'attr_id': 323, 'value': 0.3276}, {'attr_id': 324, 'value': 0}, {'attr_id': 328, 'value': 0}, {'attr_id': 334, 'value': 20.02}, {'attr_id': 337, 'value': 0}, {'attr_id': 338, 'value': 52.78}, {'attr_id': 341, 'value': 0}, {'attr_id': 342, 'value': 0}, {'attr_id': 343, 'value': 0}, {'attr_id': 401, 'value': 8.372}, {'attr_id': 404, 'value': 0.0309}, {'attr_id': 405, 'value': 0.0473}, {'attr_id': 406, 'value': 0.1656}, {'attr_id': 410, 'value': 0.111}, {'attr_id': 415, 'value': 0.0746}, {'attr_id': 417, 'value': 5.46}, {'attr_id': 418, 'value': 0}, {'attr_id': 421, 'value': 6.188}, {'attr_id': 429, 'value': 0}, {'attr_id': 430, 'value': 4.004}, {'attr_id': 431, 'value': 0}, {'attr_id': 432, 'value': 5.46}, {'attr_id': 435, 'value': 5.46}, {'attr_id': 454, 'value': 0.182}, {'attr_id': 501, 'value': 0.0018}, {'attr_id': 502, 'value': 0.0109}, {'attr_id': 503, 'value': 0.0109}, {'attr_id': 504, 'value': 0.0237}, {'attr_id': 505, 'value': 0.0218}, {'attr_id': 506, 'value': 0.0018}, {'attr_id': 507, 'value': 0.0018}, {'attr_id': 508, 'value': 0.0109}, {'attr_id': 509, 'value': 0.0018}, {'attr_id': 510, 'value': 0.0218}, {'attr_id': 511, 'value': 0.0109}, {'attr_id': 512, 'value': 0.0091}, {'attr_id': 513, 'value': 0.02}, {'attr_id': 514, 'value': 0.1274}, {'attr_id': 515, 'value': 0.0455}, {'attr_id': 516, 'value': 0.0164}, {'attr_id': 517, 'value': 0.0109}, {'attr_id': 518, 'value': 0.0182}, {'attr_id': 601, 'value': 0}, {'attr_id': 605, 'value': 0}, {'attr_id': 606, 'value': 0.051}, {'attr_id': 607, 'value': 0}, {'attr_id': 608, 'value': 0}, {'attr_id': 609, 'value': 0}, {'attr_id': 610, 'value': 0}, {'attr_id': 611, 'value': 0}, {'attr_id': 612, 'value': 0.0018}, {'attr_id': 613, 'value': 0.0437}, {'attr_id': 614, 'value': 0.0055}, {'attr_id': 617, 'value': 0.0127}, {'attr_id': 618, 'value': 0.0783}, {'attr_id': 619, 'value': 0.0164}, {'attr_id': 620, 'value': 0}, {'attr_id': 621, 'value': 0}, {'attr_id': 626, 'value': 0}, {'attr_id': 627, 'value': 0}, {'attr_id': 628, 'value': 0}, {'attr_id': 629, 'value': 0}, {'attr_id': 630, 'value': 0}, {'attr_id': 631, 'value': 0}, {'attr_id': 636, 'value': 21.84}, {'attr_id': 645, 'value': 0.0127}, {'attr_id': 646, 'value': 0.0928}], 'nix_brand_name': None, 'nix_brand_id': None, 'nix_item_name': None, 'nix_item_id': None, 'upc': None, 'consumed_at': '2025-01-30T20:35:15+00:00', 'metadata': {'is_raw_food': False}, 'source': 1, 'ndb_no': 9003, 'tags': {'item': 'apple', 'measure': None, 'quantity': '1.0', 'food_group': 3, 'tag_id': 384}, 'alt_measures': [{'serving_weight': 125, 'measure': 'cup, quartered or chopped', 'seq': 1, 'qty': 1}, {'serving_weight': 109, 'measure': 'cup slices', 'seq': 2, 'qty': 1}, {'serving_weight': 223, 'measure': 'large (3-1/4\" dia)', 'seq': 3, 'qty': 1}, {'serving_weight': 182, 'measure': 'medium (3\" dia)', 'seq': 4, 'qty': 1}, {'serving_weight': 149, 'measure': 'small (2-3/4\" dia)', 'seq': 5, 'qty': 1}, {'serving_weight': 101, 'measure': 'extra small (2-1/2\" dia)', 'seq': 6, 'qty': 1}, {'serving_weight': 242, 'measure': 'NLEA serving', 'seq': 7, 'qty': 1}, {'serving_weight': 28.35, 'measure': 'oz', 'seq': 80, 'qty': 1}, {'serving_weight': 100, 'measure': 'g', 'seq': None, 'qty': 100}], 'lat': None, 'lng': None, 'meal_type': 3, 'photo': {'thumb': 'https://nix-tag-images.s3.amazonaws.com/384_thumb.jpg', 'highres': 'https://nix-tag-images.s3.amazonaws.com/384_highres.jpg', 'is_user_uploaded': False}, 'sub_recipe': None, 'class_code': None, 'brick_code': None, 'tag_id': None}]\n"
     ]
    }
   ],
   "source": [
    "results = fetch_nutrition_NL(\"apple\")\n",
    "print(results['foods'])"
   ]
  },
  {
   "cell_type": "code",
   "execution_count": null,
   "metadata": {},
   "outputs": [],
   "source": []
  }
 ],
 "metadata": {
  "kernelspec": {
   "display_name": "Python 3",
   "language": "python",
   "name": "python3"
  },
  "language_info": {
   "codemirror_mode": {
    "name": "ipython",
    "version": 3
   },
   "file_extension": ".py",
   "mimetype": "text/x-python",
   "name": "python",
   "nbconvert_exporter": "python",
   "pygments_lexer": "ipython3",
   "version": "3.11.9"
  }
 },
 "nbformat": 4,
 "nbformat_minor": 2
}
