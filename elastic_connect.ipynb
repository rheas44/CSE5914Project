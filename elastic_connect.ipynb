{
 "cells": [
  {
   "cell_type": "code",
   "execution_count": 4,
   "metadata": {},
   "outputs": [],
   "source": [
    "from elasticsearch import Elasticsearch\n",
    "import os\n",
    "import requests\n",
    "\n",
    "API_KEY = \"2oYO3lQwGjIr9RgV+oRa6w==LsM3nPTL7VMFT7m5\""
   ]
  },
  {
   "cell_type": "code",
   "execution_count": 2,
   "metadata": {},
   "outputs": [
    {
     "name": "stdout",
     "output_type": "stream",
     "text": [
      "Successfully connected to Elasticsearch!\n"
     ]
    }
   ],
   "source": [
    "# Get Elasticsearch host from environment variables\n",
    "elasticsearch_host = \"http://localhost:9200\"\n",
    "elasticsearch_username = \"elastic\"\n",
    "elasticsearch_password = \"p5FE3c=alPhGd20o14bx\"\n",
    "# Connect to Elasticsearch\n",
    "try:\n",
    "    es = Elasticsearch(elasticsearch_host, basic_auth=(elasticsearch_username, elasticsearch_password))\n",
    "    if es.ping():\n",
    "        print(\"Successfully connected to Elasticsearch!\")\n",
    "    else:\n",
    "        print(\"Failed to connect to Elasticsearch.\")\n",
    "except Exception as e:\n",
    "    print(f\"Error connecting to Elasticsearch: {e}\")"
   ]
  },
  {
   "cell_type": "code",
   "execution_count": 9,
   "metadata": {},
   "outputs": [],
   "source": [
    "def fetch_recipes(query):\n",
    "    \"\"\"Fetch recipes from API-Ninjas and return JSON response.\"\"\"\n",
    "    api_url = f\"https://api.api-ninjas.com/v1/recipe?query={query}\"\n",
    "    headers = {\"X-Api-Key\": API_KEY}\n",
    "    \n",
    "    response = requests.get(api_url, headers=headers)\n",
    "    \n",
    "    if response.status_code == 200:\n",
    "        return response.json()\n",
    "    else:\n",
    "        print(f\"Error: {response.status_code}, {response.text}\")\n",
    "        return []\n",
    "\n",
    "def store_recipes_in_elasticsearch(recipes):\n",
    "    \"\"\"Store the fetched recipes in Elasticsearch.\"\"\"\n",
    "    for i, recipe in enumerate(recipes):\n",
    "        es.index(index=\"recipes\", id=i+1, document=recipe)\n",
    "    print(\"Recipes successfully stored in Elasticsearch!\")\n",
    "\n",
    "def search_recipes(keyword):\n",
    "    \"\"\"Search for recipes in Elasticsearch.\"\"\"\n",
    "    results = es.search(index=\"recipes\", query={\n",
    "        \"match\": {\n",
    "            \"title\": keyword  # Searches in the recipe title field\n",
    "        }\n",
    "    })\n",
    "    return results[\"hits\"][\"hits\"]"
   ]
  },
  {
   "cell_type": "code",
   "execution_count": 6,
   "metadata": {},
   "outputs": [
    {
     "name": "stdout",
     "output_type": "stream",
     "text": [
      "Recipes successfully stored in Elasticsearch!\n"
     ]
    }
   ],
   "source": [
    "# Example: Fetch & Store \"Italian Wedding Soup\"\n",
    "query = \"italian wedding soup\"\n",
    "recipes = fetch_recipes(query)\n",
    "\n",
    "if recipes:\n",
    "    store_recipes_in_elasticsearch(recipes)"
   ]
  },
  {
   "cell_type": "code",
   "execution_count": 10,
   "metadata": {},
   "outputs": [
    {
     "name": "stdout",
     "output_type": "stream",
     "text": [
      "{'title': 'Italian Wedding Soup', 'ingredients': '1/2 lb Ground beef|1/2 lb Ground veal|1/4 c Italian seasoned bread crumb|1 Egg|1 tb Parsley|Salt and pepper to taste|4 c Chicken broth|2 c Spinach leaves cut into piec|1/4 c Grated Pecorino Romano chees', 'servings': '1 Servings', 'instructions': 'Combine the ground meat, bread crumbs, egg, parsley, salt and pepper in a bowl. Mix well and form into tiny meat balls. Bake on a cookie sheet for 30 minutes at 350F. Meanwhile, bring broth to a boil and add spinach. Cover and boil for 5 minutes. Add the meatballs to the hot broth, bring to a simmer. Stir in the cheese and serve immediately. Rita in Scottsdale 01/02/92 01:41 am'}\n",
      "{'title': 'Italian Wedding Soup', 'ingredients': '2 qt Chicken stock|1 Chopped carrot|1/2 Chopped onion|1 Chopped celery|2 oz Ground meat; (or ground vegieburger can be used)|1 Egg|1 Sprig of chopped parsely', 'servings': '4 - 6 servin', 'instructions': 'Bring chicken stock to a boil add the chopped carrot,celery and onion and lower heat. Combine ground meat or vegieburger, egg, and parsely, the consistancy of the mixture is kinda loose. Drop in small pieces of the meat mixture, not much larger than a Tablespoon. (making tiny meatballs.) Turn up the heat and bring to a boil,5 -7 minutes, it is ready when the little meatballs float to the surface.'}\n",
      "{'title': 'Stracciatella (Italian Wedding Soup)', 'ingredients': '3 1/2 c Chicken broth; homemade|1 lb Fresh spinach; wash/trim/chop|1 Egg|1 c Grated parmesan cheese; --or--|1 c Romano cheese; freshly grated|Salt and pepper; to taste', 'servings': '4 servings', 'instructions': 'Bring 1 cup of the broth to a boil. Add spinach and cook until softened but still bright green. Remove spinach with a slotted spoon and set aside. Add remaining broth to pot. Bring to a boil. Meanwhile, beat egg lightly with a fork. Beat in 1/4 cup of cheese. When broth boils pour in egg mixture, stirring constantly for a few seconds until it cooks into \"rags.\" Add reserved spinach, salt and pepper. Serve immediately, passing remaining cheese. NOTES: Someone asked for this recipe a while back. I believe this soup, known as \"Stracciatella\" is synonymous with Italian Wedding Soup, however, I seem to remember from I-don\\'t-know-where that Italian Wedding Soup is the same as this but with the addition of tiny meatballs.'}\n",
      "{'title': 'Stracciatella (Italian Wedding Soup)', 'ingredients': '1 lb Fresh spinach, washed and chopped|1 Egg|1 c Parmesan cheese, * see note|Salt, to taste|Pepper, to taste', 'servings': '6 Servings', 'instructions': 'Bring 1 cup of the broth to a boil. Add spinach and cook until softened but still bright green. Remove spinach with a slotted spoon and set aside. Add remaining broth to pot. Bring to a boil. Meanwhile, beat egg lightly with a fork. Beat in 1/4 cup of cheese. When broth boils pour in egg mixture, stirring constantly for a few seconds until it cooks into \"rags.\" Add reserved spinach, salt and pepper. Serve immediately, passing remaining cheese.'}\n"
     ]
    }
   ],
   "source": [
    "# Example search\n",
    "search_results = search_recipes(\"soup\")\n",
    "\n",
    "for recipe in search_results:\n",
    "    print(recipe[\"_source\"])"
   ]
  }
 ],
 "metadata": {
  "kernelspec": {
   "display_name": "Python 3",
   "language": "python",
   "name": "python3"
  },
  "language_info": {
   "codemirror_mode": {
    "name": "ipython",
    "version": 3
   },
   "file_extension": ".py",
   "mimetype": "text/x-python",
   "name": "python",
   "nbconvert_exporter": "python",
   "pygments_lexer": "ipython3",
   "version": "3.11.9"
  }
 },
 "nbformat": 4,
 "nbformat_minor": 2
}
